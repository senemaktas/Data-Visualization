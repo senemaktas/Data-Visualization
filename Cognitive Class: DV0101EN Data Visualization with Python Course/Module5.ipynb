{
 "cells": [
  {
   "cell_type": "markdown",
   "metadata": {},
   "source": [
    "### Introduction to Folium and Map Styles\n",
    "* <p style='text-align: justify;'> Folium is a powerful data visualization library in Python that was built primarily to help people visualize geospatial data. </p> \n",
    "* <p style='text-align: justify;'> With Folium, you can create a map of any location in the world as long as you know its latitude and longitude values. You can also create a map and superimpose markers as well as clusters of markers on top of the map for cool and very interesting visualizations. </p>\n",
    "* <p style='text-align: justify;'>  You can also create maps of different styles such as street level map, stamen map and, a couple others which we will look into in just a moment. Creating a world map with Folium is pretty straightforward. </p>\n",
    "* <p style='text-align: justify;'>  You simply call the map function and that is all. What is really interesting about the maps created by Folium is that they are interactive, so you can zoom in and out after the map is rendered, which is a super useful feature. </p>\n",
    "* <p style='text-align: justify;'>  The default map style is the open street map, which shows a street view of an area when you're zoomed in and shows the borders of the world countries when you're zoomed all the way out. </p> \n",
    "* OpenStreetMap, MapBox, Stamen etc.\n",
    "* <p style='text-align: justify;'>  Another amazing feature of Folium is that you can create different map styles using the <b>tiles</b> parameter. This style is great for visualizing and exploring river meanders and coastal zones. Another style is stamen terrain. This style is great for visualizing hill shading and natural vegetation colors. </p> "
   ]
  },
  {
   "cell_type": "markdown",
   "metadata": {},
   "source": [
    "### Maps with Markers\n",
    "* <p style='text-align: justify;'> we can add a circular mark to the centre of Ontario. To do that, we need to create what is called a <b>feature group</b>. When a feature group is created, it is empty and that means what's next is to start creating what is called children and adding them to the feature group. Create a child in the form of a red circular mark located at the centre of the Ontario province. We specify the location of the child by passing in its latitude and longitude values. And once we're done adding children to the feature group we add the featured group to the map. A red circular mark superimposed on top of the map and added to the centre of the province of Ontario. To do that, we simply use the marker function and the pop up parameter to pass in whatever text we want to add to this marker.</p>\n",
    "* You cluster markers superimposed onto a map in Folium using a feature group object. -> False\n",
    "* tile style of Folium maps is usefule for data mashups and exploring river meanders and coastal zones -> "
   ]
  },
  {
   "cell_type": "markdown",
   "metadata": {},
   "source": [
    "### Choropleth Maps\n",
    "* <p style='text-align: justify;'> Create a special type of map called choropleth map with Folium. A choropleth map is a thematic map in which areas are shaded or patterned in proportion to the measurement of the statistical variable being displayed on the map, such as population density or per capita income. The higher the measurement the darker the color.  </p>\n",
    "* <p style='text-align: justify;'> In order to create a choropleth map of a region of interest, Folium requires a Geo JSON file that includes geospatial data of the region. For a choropleth map of the world, we would need a Geo JSON file that lists each country along with any geospatial data to define its borders and boundaries. Here is an example of what the Geo JSON file would include about each country. The file includes the country's name, it's ID, geometry shape, and the coordinates that define the country's borders and boundaries. </p>"
   ]
  }
 ],
 "metadata": {
  "kernelspec": {
   "display_name": "Python 3",
   "language": "python",
   "name": "python3"
  },
  "language_info": {
   "codemirror_mode": {
    "name": "ipython",
    "version": 3
   },
   "file_extension": ".py",
   "mimetype": "text/x-python",
   "name": "python",
   "nbconvert_exporter": "python",
   "pygments_lexer": "ipython3",
   "version": "3.8.3"
  }
 },
 "nbformat": 4,
 "nbformat_minor": 4
}
