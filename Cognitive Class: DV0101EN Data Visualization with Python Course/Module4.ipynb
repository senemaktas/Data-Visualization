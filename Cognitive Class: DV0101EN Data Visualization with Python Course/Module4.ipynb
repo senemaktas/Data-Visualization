{
 "cells": [
  {
   "cell_type": "markdown",
   "metadata": {},
   "source": [
    "### Waffle Charts\n",
    "* <p style='text-align: justify;'> A waffle chart is a great way to visualize data in relation to a whole or to highlight progress against a given threshold. </p>\n",
    "* <p style='text-align: justify;'> The main idea here is for a given waffle chart whose desired height and width are defined, the contribution of each country is transformed into a number of tiles that is proportional to the country's contribution to the total, so that more the contribution the more the tiles, resulting in what resembles a waffle when combined. Hence the name waffle chart. Unfortunately Matplotlib does not have a built-in function to create waffle charts. </p>\n",
    "* <p style='text-align: justify;'> Therefore, in the lab session, I'll walk you through the process of creating your own Python function to create a waffle chart. </p>"
   ]
  },
  {
   "cell_type": "markdown",
   "metadata": {},
   "source": [
    "### Word Clouds\n",
    "* <p style='text-align: justify;'>  A word cloud is simply a depiction of the importance of different words in the body of text. A word cloud works in a simple way; the more a specific word appears in a source of textual data the bigger and bolder it appears in the world cloud. So given some text data on recruitment. </p>\n",
    "* <p style='text-align: justify;'>  And assuming that we didn't know anything about the content of these documents, a word cloud can be very useful to assign a topic to some unknown textual data. </p>\n",
    "* <p style='text-align: justify;'>  Unfortunately, just like waffle charts, Matplotlib does not have a built-in function to generate word clouds. However, luckily a Python library for cloud word generation that was created by Andreas Mueller is publicly available. </p>"
   ]
  },
  {
   "cell_type": "markdown",
   "metadata": {},
   "source": [
    "### Seaborn and Regression Plots\n",
    "* Seaborn is another data visualization library, it is actually based on Matplotlib. \n",
    "* <p style='text-align: justify;'>  It was built primarily to provide a high-level interface for drawing attractive statistical graphics, such as regression plots, box plots, and so on. </p>\n",
    "* <p style='text-align: justify;'>  Seaborn makes creating plots very efficient. Therefore with Seaborn you can generate plots with code that is 5 times less than with Matplotlib. </p>\n",
    "* import seaborn as sns and use  call the Seaborn regplot function."
   ]
  }
 ],
 "metadata": {
  "kernelspec": {
   "display_name": "Python 3",
   "language": "python",
   "name": "python3"
  },
  "language_info": {
   "codemirror_mode": {
    "name": "ipython",
    "version": 3
   },
   "file_extension": ".py",
   "mimetype": "text/x-python",
   "name": "python",
   "nbconvert_exporter": "python",
   "pygments_lexer": "ipython3",
   "version": "3.8.3"
  }
 },
 "nbformat": 4,
 "nbformat_minor": 4
}
