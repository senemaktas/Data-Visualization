{
 "cells": [
  {
   "cell_type": "markdown",
   "metadata": {},
   "source": [
    "### Introduction to Data Visualization\n",
    "\n",
    "Why Build Visuals?\n",
    "1. For exploratory data analysis\n",
    "2. Communicate data clearly\n",
    "3. Share unbiased representation of data\n",
    "4. Use them to support recommendations to different stackeholders\n",
    "\n",
    "Approach when creating a visual revolves around three key points:\n",
    "1. less is more effective\n",
    "2. it is more attractive\n",
    "3. it is more impactive."
   ]
  },
  {
   "cell_type": "markdown",
   "metadata": {},
   "source": [
    "### Introduction to Matplotlib\n",
    "Matplotlib was originally developed as an ECoG visualization tool, and just like MATLAB, Matplotlib was equipped with a scripting interface for quick and easy generation of graphics, represented by pyplot.\n",
    "\n",
    "#### Matplotlib Architecture\n",
    "Matplotlib's architecture is composed of three main layers: \n",
    "* <p style='text-align: justify;'> the back-end layer; has three built-in abstract interface classes: FigureCanvas,Renderer, Event. FigureCanvas, which defines and encompasses the area on which the figure is drawn. Renderer, an instance of the renderer class knows how to draw on the figure canvas. Event, which handles user inputs such as keyboard strokes and mouse clicks. </p>\n",
    "\n",
    "* <p style='text-align: justify;'>  the artist layer where much of the heavy lifting happens and is usually the appropriate programming paradigm when writing a web application server, or a UI application, or perhaps a script to be shared with other developers.  It is composed of one main object, which is the Artist. The Artist is the object that knows how to take the Renderer and use it to put ink on the canvas. Everything you see on a Matplotlib figure is an Artist instance. The title, the lines, the tick labels, the images, and so on, all correspond to an individual Artist. There are two types of Artist objects. The first type is the primitive type, such as a line, a rectangle, a circle, or text. And the second type is the composite type, such as the figure or the axes. The top-level Matplotlib object that contains and manages all of the elements in a given graphic is the figure Artist, and the most important composite artist is the axes because it is where most of the Matplotlib API plotting methods are defined, including methods to create and manipulate the ticks, the axis lines, the grid or the plot background. Now it is important to note that each composite artist may contain other composite artists as well as primitive artists. So a figure artist for example would contain an axis artist as well as a rectangle or text artists. </p>\n",
    "\n",
    "* <p style='text-align: justify;'>  the scripting layer (pyplot), which is the appropriate layer for everyday purposes and is considered a lighter scripting interface to simplify common tasks and for a quick and easy generation of graphics and plots.scripting layer is essentially the Matplotlib.pyplot interface, which automates the process of defining a canvas and defining a figure artist instance and connecting them. </p>\n",
    "\n",
    "For more information -> http://www.aosabook.org/en/matplotlib.html"
   ]
  },
  {
   "cell_type": "markdown",
   "metadata": {},
   "source": [
    "### Basic Plotting with Matplotlib \n",
    "* <p style='text-align: justify;'> Matplotlib is a well-established data visualization library that is well supported in different environments such as in Python scripts, in the iPython shell, web application servers, in graphical user interface toolkits as well as the Jupyter notebook. </p>\n",
    "\n",
    "* <p style='text-align: justify;'> % Matplotlib, and to enforce plots to be rendered within the browser, you pass in inline as the backend. A backend that overcomes this limitation is the notebook backend. With the notebook backend in place, if a plt function is called, it checks if an active figure exists, and any functions you call will be applied to this active figure. If a figure does not exist, it renders a new figure. So when we call the plt. And what is beautiful about this back end is that now we can easily add a title for example or labels to the axes after the plot was rendered, without the need to regenerate the figure. </p>\n",
    "\n",
    "* <p style='text-align: justify;'> Another thing that is great about Matplotlib is that pandas also has a built-in implementation of it. Therefore, plotting in pandas is as simple as calling the plot function on a given pandas series or dataframe. For eaxample: dataframe which we called \"dataset_df\" and set the parameter kind to line and there you have it: a line plot of the data in the data frame. **dataset_df.plot(kind=\"line\")** or **dataset_df(\"column_name\").plot(kind=\"hist\")** </p>"
   ]
  },
  {
   "cell_type": "code",
   "execution_count": 13,
   "metadata": {},
   "outputs": [
    {
     "data": {
      "image/png": "[encoded data removed]",
      "text/plain": [
       "<Figure size 432x288 with 1 Axes>"
      ]
     },
     "metadata": {
      "needs_background": "light"
     },
     "output_type": "display_data"
    }
   ],
   "source": [
    "import matplotlib.pyplot as plt\n",
    "%matplotlib inline \n",
    "#%matplotlib notebook\n",
    "plt.plot(5,5,'o')\n",
    "plt.xlabel(\"X\")\n",
    "plt.ylabel(\"Y\")\n",
    "plt.title(\"Plotting Example\")\n",
    "plt.show()"
   ]
  },
  {
   "cell_type": "markdown",
   "metadata": {},
   "source": [
    "### Dataset on Immigration to Canada\n",
    "<p style='text-align: justify;'> The population division of the United Nations compiled immigration data pertaining to 45 countries. The data consist of the total number of immigrants from all over the world to each of the 45 countries as well as other metadata pertaining to the immigrants countries of origin. we will focus on immigration to Canada and we will work primarily with the data set involving immigration to the great white north. </p>"
   ]
  },
  {
   "cell_type": "code",
   "execution_count": 2,
   "metadata": {},
   "outputs": [
    {
     "name": "stdout",
     "output_type": "stream",
     "text": [
      "Requirement already satisfied: xlrd in /home/sidney/anaconda3/lib/python3.8/site-packages (1.2.0)\n",
      "xlrd installed!\n"
     ]
    }
   ],
   "source": [
    "'''import the data into a pandas dataframe. To do that, we will need to import the pandas library as well as the xlrd library, which is\n",
    "required to extract data from Excel spreadsheet files. '''\n",
    "!pip install xlrd\n",
    "print(\"xlrd installed!\")\n",
    "xlrd.__VERSION__"
   ]
  },
  {
   "cell_type": "code",
   "execution_count": null,
   "metadata": {},
   "outputs": [],
   "source": [
    "''' The pandas function read_excel to read the data into a pandas dataframe.'''\n",
    "###### Read Data into Pandas Dataframe\n",
    "import numpy as np\n",
    "import pandas as pd\n",
    "from __future__ import print_function #adds compability to python 2 \n",
    "import xlrd\n",
    "df_can=pd.read_excel('https://ibm.box.com/shared/static/lw190pt9zpy5bd1ptyg2aw15awomz9pu.xlsx',\n",
    "                    sheet_name=\"Canada by Citizenship\",\n",
    "                    skiprows=range(20),\n",
    "                    skip_footer=2)\n",
    "\n",
    "df_can.head() #head function to display the first five rows of the dataframe."
   ]
  },
  {
   "cell_type": "markdown",
   "metadata": {},
   "source": [
    "### Line Plots\n",
    "<p style='text-align: justify;'> it is a plot in the form of a series of data points connected by straight line segments. It is one of the most basic type of chart and is common in many fields not just data science. The best use case for a line plot is when you have a continuous dataset and you're interested in visualizing the data over a period of time. As an example, say we're interested in the trend of immigrants from Haiti to Canada. </p>"
   ]
  },
  {
   "cell_type": "code",
   "execution_count": null,
   "metadata": {},
   "outputs": [],
   "source": [
    "import matplotlib as mpl\n",
    "import matplotlib.pyplot as plt\n",
    "%matplotlib inline \n",
    "\n",
    "years=list(map(str,range(1980,2014)))\n",
    "\n",
    "df_canada.loc('Haiti',years).plot(kind=\"line\")\n",
    "plt.title(\"Immigration from Haiti\")\n",
    "plt.ylabel(\"Number of immigrants\")\n",
    "plt.xlabel(\"Years\")\n",
    "plt.show()  #display the figure"
   ]
  }
 ],
 "metadata": {
  "kernelspec": {
   "display_name": "Python 3",
   "language": "python",
   "name": "python3"
  },
  "language_info": {
   "codemirror_mode": {
    "name": "ipython",
    "version": 3
   },
   "file_extension": ".py",
   "mimetype": "text/x-python",
   "name": "python",
   "nbconvert_exporter": "python",
   "pygments_lexer": "ipython3",
   "version": "3.8.3"
  }
 },
 "nbformat": 4,
 "nbformat_minor": 4
}
