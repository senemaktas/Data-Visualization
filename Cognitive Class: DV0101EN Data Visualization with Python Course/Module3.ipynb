{
 "cells": [
  {
   "cell_type": "markdown",
   "metadata": {},
   "source": [
    "### Pie Charts\n",
    "* <p style='text-align: justify;'>  A pie chart is a circular statistical graphic divided into slices to illustrate numerical proportion. </p>\n",
    "* <p style='text-align: justify;'>  There are some very vocal opponents to the use of pie charts under any circumstances. Most argue that pie charts fail to accurately display data with any consistency. Bar charts are much better when it comes to representing the data in a consistent way and getting the message across. </p>"
   ]
  },
  {
   "cell_type": "markdown",
   "metadata": {},
   "source": [
    "### Box Plots\n",
    "* <p style='text-align: justify;'> A box plot is a way of statistically representing the distribution of given data through five main dimensions. </p>\n",
    "* <p style='text-align: justify;'> The first dimension is <b>minimum</b> , which is the smallest number in the sorted data. </p>\n",
    "* <p style='text-align: justify;'> The second dimension is <b>first quartile</b> , which is the point 25% of the way through the sorted data. In other words, a quarter of the datapoints are less than this value. </p>\n",
    "* <p style='text-align: justify;'> The third dimension is <b>median</b> , which is the median of the sorted data. </p>\n",
    "* <p style='text-align: justify;'> The fourth dimension is <b>third quartile</b> , which is the point 75% of the way through the sorted data. In other words, three-quarters of the data points are less than this value. </p>\n",
    "* <p style='text-align: justify;'> And the final dimension is <b>maximum</b> , which is the highest number in the sorted data. </p>"
   ]
  },
  {
   "cell_type": "markdown",
   "metadata": {},
   "source": [
    "### Scatter Plots\n",
    "* A scatter plot is a type of plot that displays values pertaining to typically two variables against each other. Usually it is a dependent variable to be plotted against an independent variable in order to determine if any correlation between the two variables exists."
   ]
  }
 ],
 "metadata": {
  "kernelspec": {
   "display_name": "Python 3",
   "language": "python",
   "name": "python3"
  },
  "language_info": {
   "codemirror_mode": {
    "name": "ipython",
    "version": 3
   },
   "file_extension": ".py",
   "mimetype": "text/x-python",
   "name": "python",
   "nbconvert_exporter": "python",
   "pygments_lexer": "ipython3",
   "version": "3.8.3"
  }
 },
 "nbformat": 4,
 "nbformat_minor": 4
}
