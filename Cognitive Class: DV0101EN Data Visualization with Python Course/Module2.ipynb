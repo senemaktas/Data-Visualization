{
 "cells": [
  {
   "cell_type": "markdown",
   "metadata": {},
   "source": [
    "### Area Plots\n",
    "* <p style='text-align: justify;'> It's extension line plot. It is based on the line plot and is commonly used when trying to compare two or more quantities. </p>\n",
    "* <p style='text-align: justify;'>  An area plot also known as an area chart or graph is a type of plot that depicts accumulated totals using numbers or percentages over time.</p>"
   ]
  },
  {
   "cell_type": "code",
   "execution_count": null,
   "metadata": {},
   "outputs": [],
   "source": [
    "'''select only the columns representing the years 1980 to 2013 in order to exclude the total column before \n",
    "applying the transpose method. The resulting dataframe is exactly what we want, with five columns where each\n",
    "column represents one of the top five countries and the years being the indices. '''\n",
    "\n",
    "import matplotlib as mlp\n",
    "import matplotlib.pyplot as plt\n",
    "import numpy as np\n",
    "import pandas as pd\n",
    "%matplotlib inline\n",
    "\n",
    "df_canada=pd.read_excel('https://s3-api.us-geo.objectstorage.softlayer.net/cf-courses-data/CognitiveClass/DV0101EN/labs/Data_Files/Canada.xlsx',\n",
    "                    sheet_name=\"Canada by Citizenship\",\n",
    "                    skiprows=range(20),\n",
    "                    skip_footer=2)\n",
    "\n",
    "df_canada.rename(columns={'OdName':'Country', 'AreaName':'Continent', 'RegName':'Region'}, inplace=True)\n",
    "df_canada.columns\n",
    "\n",
    "df_canada['Total']=df_canada.sum(axis=1) #sum rows and make \"Total\" column\n",
    "\n",
    "years=list(map(str,range(1980,2014)))\n",
    "\n",
    "df_canada.sort_values(['Total'], ascending=False,axis=0,inplace=True)\n",
    "\n",
    "df_top5=df_canada.head()\n",
    "\n",
    "df_top5=df_top5[years].transpose()\n",
    "\n",
    "df_top5.plot(kind=\"area\")  \n",
    "\n",
    "plt.title(\"Imigration of top 5 countries\")\n",
    "plt.ylabel(\"number of imigrants\")\n",
    "plt.xlabel(\"years\")\n",
    "plt.show()"
   ]
  },
  {
   "cell_type": "markdown",
   "metadata": {},
   "source": [
    "df_canada.head()"
   ]
  },
  {
   "cell_type": "markdown",
   "metadata": {},
   "source": [
    "### Histograms\n",
    "* <p style='text-align: justify;'> A histogram is a way of representing the frequency distribution of a numeric dataset. The way it works is it partitions the spread of the numeric data into bins, assigns each datapoint in the dataset to a bin, and then counts the number of datapoints that have been assigned to each bin. So the vertical axis is actually the requency or the number of datapoints in each bin. </p>\n",
    "* <p style='text-align: justify;'> we're interested in visualizing the distribution of immigrants to Canada in the year 2013. The simplest way to do that is to generate a histogram of the data in column 2013. </p>"
   ]
  },
  {
   "cell_type": "code",
   "execution_count": null,
   "metadata": {},
   "outputs": [],
   "source": [
    "import matplotlib as mlp\n",
    "import matplotlib.pyplot as plt\n",
    "import numpy as np\n",
    "import pandas as pd\n",
    "%matplotlib inline\n",
    "\n",
    "count,bin_edges=np.histogram(df_canada[2013])\n",
    "\n",
    "#Calling a numerically named column in a dataframe????\n",
    "df_canada[2013].plot(kind='hist',xticks = bin_edges)\n",
    "\n",
    "plt.title(\"Histogram of imigration from 195 countries in 2013\")\n",
    "plt.ylabel(\"number of countries\")\n",
    "plt.xlabel(\"number of immigrants\")\n",
    "plt.show()"
   ]
  },
  {
   "cell_type": "markdown",
   "metadata": {},
   "source": [
    "### Bar Charts\n",
    "* <p style='text-align: justify;'> Unlike a histogram, a bar chart also known as a bar graph is a type of plot where the length of each bar is proportional to the value of the item that it represents. It is commonly used to compare the values of a variable at a given point in time. </p>\n"
   ]
  },
  {
   "cell_type": "code",
   "execution_count": null,
   "metadata": {},
   "outputs": [],
   "source": [
    "import matplotlib as mlp\n",
    "import matplotlib.pyplot as plt\n",
    "import numpy as np\n",
    "import pandas as pd\n",
    "%matplotlib inline\n",
    "\n",
    "years=list(map(str,range(1980,2014)))\n",
    "\n",
    "df_iceland=df_canada.loc['Iceland',years]\n",
    "df_iceland.plot(kind='bar')\n",
    "\n",
    "plt.title(\"Icelandic immigrants to Canada from 1980 to 2013\")\n",
    "plt.ylabel(\"year\")\n",
    "plt.xlabel(\"number of immigrants\")\n",
    "plt.show()"
   ]
  }
 ],
 "metadata": {
  "kernelspec": {
   "display_name": "Python 3",
   "language": "python",
   "name": "python3"
  },
  "language_info": {
   "codemirror_mode": {
    "name": "ipython",
    "version": 3
   },
   "file_extension": ".py",
   "mimetype": "text/x-python",
   "name": "python",
   "nbconvert_exporter": "python",
   "pygments_lexer": "ipython3",
   "version": "3.8.3"
  }
 },
 "nbformat": 4,
 "nbformat_minor": 4
}
